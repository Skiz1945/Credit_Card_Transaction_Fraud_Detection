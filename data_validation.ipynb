{
 "cells": [
  {
   "cell_type": "code",
   "execution_count": 1,
   "id": "5b39e60c",
   "metadata": {},
   "outputs": [],
   "source": [
    "import pandas as pd\n",
    "import numpy as np"
   ]
  },
  {
   "cell_type": "code",
   "execution_count": null,
   "id": "97c9f1dd",
   "metadata": {},
   "outputs": [],
   "source": [
    "train_final = pd.read_csv('engineered_data/fraudTrain_engineered.csv')\n",
    "test_final = pd.read_csv('engineered_data/fraudTest_engineered.csv')"
   ]
  },
  {
   "cell_type": "code",
   "execution_count": 3,
   "id": "8a913487",
   "metadata": {},
   "outputs": [
    {
     "name": "stdout",
     "output_type": "stream",
     "text": [
      "\n",
      "First 5 rows of train_final:\n",
      "      amt gender  trans_hour  is_night  is_weekend  is_saturday  distance_km  \\\n",
      "0    4.97      F           0         1           0            0    78.773821   \n",
      "1  107.23      F           0         1           0            0    30.216618   \n",
      "2  220.11      M           0         1           0            0   108.102912   \n",
      "3   45.00      M           0         1           0            0    95.685115   \n",
      "4   41.96      M           0         1           0            0    77.702395   \n",
      "\n",
      "   log_distance  high_risk_category  category_risk_score  ...  small_city  \\\n",
      "0      4.379195                   1             0.014458  ...           1   \n",
      "1      3.440951                   1             0.014098  ...           1   \n",
      "2      4.692292                   0             0.002478  ...           1   \n",
      "3      4.571459                   0             0.004694  ...           1   \n",
      "4      4.365674                   0             0.003139  ...           1   \n",
      "\n",
      "   high_value_txn  medium_value_txn  age  age_bin_30-45  age_bin_46-60  \\\n",
      "0               0                 0   37              1              0   \n",
      "1               0                 1   47              0              1   \n",
      "2               0                 1   63              0              0   \n",
      "3               0                 0   58              0              1   \n",
      "4               0                 0   39              1              0   \n",
      "\n",
      "   age_bin_60+  daily_freq  freq_risk  is_fraud  \n",
      "0            0           3          0         0  \n",
      "1            0          10          1         0  \n",
      "2            1           1          0         0  \n",
      "3            0           2          0         0  \n",
      "4            0           4          0         0  \n",
      "\n",
      "[5 rows x 22 columns]\n"
     ]
    }
   ],
   "source": [
    "print(\"\\nFirst 5 rows of train_final:\")\n",
    "print(train_final.head())"
   ]
  },
  {
   "cell_type": "code",
   "execution_count": null,
   "id": "6761b043",
   "metadata": {},
   "outputs": [
    {
     "name": "stdout",
     "output_type": "stream",
     "text": [
      "\n",
      "Checking for missing values...\n",
      "Missing values in train_final:\n",
      "amt                    0\n",
      "gender                 0\n",
      "trans_hour             0\n",
      "is_night               0\n",
      "is_weekend             0\n",
      "is_saturday            0\n",
      "distance_km            0\n",
      "log_distance           0\n",
      "high_risk_category     0\n",
      "category_risk_score    0\n",
      "merchant_risk_score    0\n",
      "high_risk_state        0\n",
      "small_city             0\n",
      "high_value_txn         0\n",
      "medium_value_txn       0\n",
      "age                    0\n",
      "age_bin_30-45          0\n",
      "age_bin_46-60          0\n",
      "age_bin_60+            0\n",
      "daily_freq             0\n",
      "freq_risk              0\n",
      "is_fraud               0\n",
      "dtype: int64\n",
      "\n",
      "Missing values in test_final:\n",
      "amt                    0\n",
      "gender                 0\n",
      "trans_hour             0\n",
      "is_night               0\n",
      "is_weekend             0\n",
      "is_saturday            0\n",
      "distance_km            0\n",
      "log_distance           0\n",
      "high_risk_category     0\n",
      "category_risk_score    0\n",
      "merchant_risk_score    0\n",
      "high_risk_state        0\n",
      "small_city             0\n",
      "high_value_txn         0\n",
      "medium_value_txn       0\n",
      "age                    0\n",
      "age_bin_30-45          0\n",
      "age_bin_46-60          0\n",
      "age_bin_60+            0\n",
      "daily_freq             0\n",
      "freq_risk              0\n",
      "is_fraud               0\n",
      "dtype: int64\n"
     ]
    }
   ],
   "source": [
    "# Step 1.2: check for missing values\n",
    "print(\"\\nChecking for missing values...\")\n",
    "print(\"Missing values in train_final:\")\n",
    "print(train_final.isnull().sum())\n",
    "print(\"\\nMissing values in test_final:\")\n",
    "print(test_final.isnull().sum())"
   ]
  },
  {
   "cell_type": "code",
   "execution_count": null,
   "id": "483fd498",
   "metadata": {},
   "outputs": [
    {
     "name": "stdout",
     "output_type": "stream",
     "text": [
      "\n",
      "Verifying data types...\n",
      "Data types in train_final:\n",
      "amt                    float64\n",
      "gender                  object\n",
      "trans_hour               int64\n",
      "is_night                 int64\n",
      "is_weekend               int64\n",
      "is_saturday              int64\n",
      "distance_km            float64\n",
      "log_distance           float64\n",
      "high_risk_category       int64\n",
      "category_risk_score    float64\n",
      "merchant_risk_score    float64\n",
      "high_risk_state          int64\n",
      "small_city               int64\n",
      "high_value_txn           int64\n",
      "medium_value_txn         int64\n",
      "age                      int64\n",
      "age_bin_30-45            int64\n",
      "age_bin_46-60            int64\n",
      "age_bin_60+              int64\n",
      "daily_freq               int64\n",
      "freq_risk                int64\n",
      "is_fraud                 int64\n",
      "dtype: object\n"
     ]
    }
   ],
   "source": [
    "# Step 1.3: verify data types\n",
    "print(\"\\nVerifying data types...\")\n",
    "print(\"Data types in train_final:\")\n",
    "print(train_final.dtypes)"
   ]
  },
  {
   "cell_type": "code",
   "execution_count": null,
   "id": "20efe525",
   "metadata": {},
   "outputs": [
    {
     "name": "stdout",
     "output_type": "stream",
     "text": [
      "\n",
      "Reviewing summary statistics...\n",
      "Summary statistics for train_final:\n",
      "                amt    trans_hour      is_night    is_weekend   is_saturday  \\\n",
      "count  1.296675e+06  1.296675e+06  1.296675e+06  1.296675e+06  1.296675e+06   \n",
      "mean   7.035104e+01  1.280486e+01  2.351260e-01  3.482260e-01  1.549787e-01   \n",
      "std    1.603160e+02  6.817824e+00  4.240777e-01  4.764083e-01  3.618845e-01   \n",
      "min    1.000000e+00  0.000000e+00  0.000000e+00  0.000000e+00  0.000000e+00   \n",
      "25%    9.650000e+00  7.000000e+00  0.000000e+00  0.000000e+00  0.000000e+00   \n",
      "50%    4.752000e+01  1.400000e+01  0.000000e+00  0.000000e+00  0.000000e+00   \n",
      "75%    8.314000e+01  1.900000e+01  0.000000e+00  1.000000e+00  0.000000e+00   \n",
      "max    2.894890e+04  2.300000e+01  1.000000e+00  1.000000e+00  1.000000e+00   \n",
      "\n",
      "        distance_km  log_distance  high_risk_category  category_risk_score  \\\n",
      "count  1.296675e+06  1.296675e+06        1.296675e+06         1.296675e+06   \n",
      "mean   7.611248e+01  4.245295e+00        2.193827e-01         5.788652e-03   \n",
      "std    2.909270e+01  5.040820e-01        4.138285e-01         5.365389e-03   \n",
      "min    2.227351e-02  2.202908e-02        0.000000e+00         1.548691e-03   \n",
      "25%    5.535784e+01  4.031721e+00        0.000000e+00         2.114389e-03   \n",
      "50%    7.826335e+01  4.372776e+00        0.000000e+00         2.948165e-03   \n",
      "75%    9.846835e+01  4.599839e+00        0.000000e+00         7.225384e-03   \n",
      "max    1.518682e+02  5.029576e+00        1.000000e+00         1.756149e-02   \n",
      "\n",
      "       merchant_risk_score  ...    small_city  high_value_txn  \\\n",
      "count         1.296675e+06  ...  1.296675e+06    1.296675e+06   \n",
      "mean          5.788652e-03  ...  6.999526e-01    1.205468e-02   \n",
      "std           5.545827e-03  ...  4.582784e-01    1.091301e-01   \n",
      "min           0.000000e+00  ...  0.000000e+00    0.000000e+00   \n",
      "25%           1.774623e-03  ...  0.000000e+00    0.000000e+00   \n",
      "50%           3.337041e-03  ...  1.000000e+00    0.000000e+00   \n",
      "75%           8.239376e-03  ...  1.000000e+00    0.000000e+00   \n",
      "max           2.572347e-02  ...  1.000000e+00    1.000000e+00   \n",
      "\n",
      "       medium_value_txn           age  age_bin_30-45  age_bin_46-60  \\\n",
      "count      1.296675e+06  1.296675e+06   1.296675e+06   1.296675e+06   \n",
      "mean       1.691372e-01  5.122908e+01   3.294804e-01   3.113201e-01   \n",
      "std        3.748732e-01  1.740576e+01   4.700247e-01   4.630335e-01   \n",
      "min        0.000000e+00  2.000000e+01   0.000000e+00   0.000000e+00   \n",
      "25%        0.000000e+00  3.800000e+01   0.000000e+00   0.000000e+00   \n",
      "50%        0.000000e+00  4.900000e+01   0.000000e+00   0.000000e+00   \n",
      "75%        0.000000e+00  6.200000e+01   1.000000e+00   1.000000e+00   \n",
      "max        1.000000e+00  1.000000e+02   1.000000e+00   1.000000e+00   \n",
      "\n",
      "        age_bin_60+    daily_freq     freq_risk      is_fraud  \n",
      "count  1.296675e+06  1.296675e+06  1.296675e+06  1.296675e+06  \n",
      "mean   2.734101e-01  4.998114e+00  3.518091e-01  5.788652e-03  \n",
      "std    4.457097e-01  3.195478e+00  4.775349e-01  7.586269e-02  \n",
      "min    0.000000e+00  1.000000e+00  0.000000e+00  0.000000e+00  \n",
      "25%    0.000000e+00  3.000000e+00  0.000000e+00  0.000000e+00  \n",
      "50%    0.000000e+00  4.000000e+00  0.000000e+00  0.000000e+00  \n",
      "75%    1.000000e+00  7.000000e+00  1.000000e+00  0.000000e+00  \n",
      "max    1.000000e+00  3.400000e+01  1.000000e+00  1.000000e+00  \n",
      "\n",
      "[8 rows x 21 columns]\n"
     ]
    }
   ],
   "source": [
    "# Step 1.4: review summary statistics\n",
    "print(\"\\nReviewing summary statistics...\")\n",
    "print(\"Summary statistics for train_final:\")\n",
    "print(train_final.describe())"
   ]
  },
  {
   "cell_type": "code",
   "execution_count": null,
   "id": "f702514e",
   "metadata": {},
   "outputs": [
    {
     "name": "stdout",
     "output_type": "stream",
     "text": [
      "\n",
      "Checking class distribution...\n",
      "Class distribution in train_final (proportion):\n",
      "is_fraud\n",
      "0    0.994211\n",
      "1    0.005789\n",
      "Name: proportion, dtype: float64\n"
     ]
    }
   ],
   "source": [
    "# Step 1.5: check class distribution\n",
    "print(\"\\nChecking class distribution...\")\n",
    "print(\"Class distribution in train_final (proportion):\")\n",
    "print(train_final['is_fraud'].value_counts(normalize=True))"
   ]
  }
 ],
 "metadata": {
  "kernelspec": {
   "display_name": "python_developer",
   "language": "python",
   "name": "python3"
  },
  "language_info": {
   "codemirror_mode": {
    "name": "ipython",
    "version": 3
   },
   "file_extension": ".py",
   "mimetype": "text/x-python",
   "name": "python",
   "nbconvert_exporter": "python",
   "pygments_lexer": "ipython3",
   "version": "3.11.10"
  }
 },
 "nbformat": 4,
 "nbformat_minor": 5
}
