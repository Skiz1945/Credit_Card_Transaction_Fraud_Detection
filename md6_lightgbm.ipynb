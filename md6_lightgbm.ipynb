{
 "cells": [
  {
   "cell_type": "code",
   "execution_count": 1,
   "id": "5d564f83",
   "metadata": {},
   "outputs": [],
   "source": [
    "import pandas as pd\n",
    "import lightgbm as lgb\n",
    "from sklearn.metrics import classification_report, confusion_matrix\n",
    "import matplotlib.pyplot as plt\n",
    "import seaborn as sns"
   ]
  },
  {
   "cell_type": "code",
   "execution_count": null,
   "id": "d0e9d362",
   "metadata": {},
   "outputs": [
    {
     "name": "stdout",
     "output_type": "stream",
     "text": [
      "Loading the validated datasets...\n"
     ]
    }
   ],
   "source": [
    "# Step 1: load the validated datasets\n",
    "print(\"Loading the validated datasets...\")\n",
    "train_final = pd.read_csv('engineered_data/fraudTrain_engineered.csv')\n",
    "test_final = pd.read_csv('engineered_data/fraudTest_engineered.csv')"
   ]
  },
  {
   "cell_type": "code",
   "execution_count": null,
   "id": "4f55a9d7",
   "metadata": {},
   "outputs": [],
   "source": [
    "# Step 2: prepare features and target\n",
    "# encode gender using one-hot encoding\n",
    "train_final = pd.get_dummies(train_final, columns=['gender'], drop_first=True)\n",
    "test_final = pd.get_dummies(test_final, columns=['gender'], drop_first=True)"
   ]
  },
  {
   "cell_type": "code",
   "execution_count": null,
   "id": "ac4be8cc",
   "metadata": {},
   "outputs": [],
   "source": [
    "# define features \n",
    "features = [col for col in train_final.columns if col not in ['is_fraud']]\n",
    "X_train = train_final[features]\n",
    "y_train = train_final['is_fraud']\n",
    "X_test = test_final[features]\n",
    "y_test = test_final['is_fraud']"
   ]
  },
  {
   "cell_type": "code",
   "execution_count": null,
   "id": "195145dc",
   "metadata": {},
   "outputs": [],
   "source": [
    "# Step 3: define LightGBM parameters\n",
    "params = {\n",
    "    'objective': 'binary',  # Binary classification\n",
    "    'metric': 'binary_logloss',  # Metric for evaluation\n",
    "    'scale_pos_weight': len(y_train[y_train == 0]) / len(y_train[y_train == 1]),  # Handle imbalance\n",
    "    'random_state': 42\n",
    "}"
   ]
  },
  {
   "cell_type": "code",
   "execution_count": null,
   "id": "5e0aed72",
   "metadata": {},
   "outputs": [],
   "source": [
    "# Step 4: create LightGBM dataset\n",
    "train_data = lgb.Dataset(X_train, label=y_train)\n",
    "test_data = lgb.Dataset(X_test, label=y_test, reference=train_data)"
   ]
  },
  {
   "cell_type": "code",
   "execution_count": null,
   "id": "509a7cab",
   "metadata": {},
   "outputs": [
    {
     "name": "stdout",
     "output_type": "stream",
     "text": [
      "Training the LightGBM model...\n",
      "[LightGBM] [Info] Number of positive: 7506, number of negative: 1289169\n",
      "[LightGBM] [Info] Auto-choosing row-wise multi-threading, the overhead of testing was 0.049410 seconds.\n",
      "You can set `force_row_wise=true` to remove the overhead.\n",
      "And if memory is not enough, you can set `force_col_wise=true`.\n",
      "[LightGBM] [Info] Total Bins 1196\n",
      "[LightGBM] [Info] Number of data points in the train set: 1296675, number of used features: 21\n",
      "[LightGBM] [Info] [binary:BoostFromScore]: pavg=0.005789 -> initscore=-5.146050\n",
      "[LightGBM] [Info] Start training from score -5.146050\n"
     ]
    }
   ],
   "source": [
    "# Step 5: train the LightGBM model\n",
    "print(\"Training the LightGBM model...\")\n",
    "lgb_model = lgb.train(params, train_data, num_boost_round=100)"
   ]
  },
  {
   "cell_type": "code",
   "execution_count": null,
   "id": "56a3b553",
   "metadata": {},
   "outputs": [
    {
     "name": "stdout",
     "output_type": "stream",
     "text": [
      "Generating predicted probabilities...\n"
     ]
    }
   ],
   "source": [
    "# Step 6: get predicted probabilities\n",
    "print(\"Generating predicted probabilities...\")\n",
    "y_pred_prob = lgb_model.predict(X_test)  "
   ]
  },
  {
   "cell_type": "code",
   "execution_count": null,
   "id": "f51a57f8",
   "metadata": {},
   "outputs": [
    {
     "name": "stdout",
     "output_type": "stream",
     "text": [
      "\n",
      "Threshold: 0.8\n",
      "              precision    recall  f1-score   support\n",
      "\n",
      "           0       1.00      0.98      0.99    553574\n",
      "           1       0.14      0.90      0.24      2145\n",
      "\n",
      "    accuracy                           0.98    555719\n",
      "   macro avg       0.57      0.94      0.62    555719\n",
      "weighted avg       1.00      0.98      0.99    555719\n",
      "\n",
      "\n",
      "Threshold: 0.9\n",
      "              precision    recall  f1-score   support\n",
      "\n",
      "           0       1.00      0.98      0.99    553574\n",
      "           1       0.16      0.88      0.27      2145\n",
      "\n",
      "    accuracy                           0.98    555719\n",
      "   macro avg       0.58      0.93      0.63    555719\n",
      "weighted avg       1.00      0.98      0.99    555719\n",
      "\n",
      "\n",
      "Threshold: 0.95\n",
      "              precision    recall  f1-score   support\n",
      "\n",
      "           0       1.00      0.98      0.99    553574\n",
      "           1       0.16      0.87      0.28      2145\n",
      "\n",
      "    accuracy                           0.98    555719\n",
      "   macro avg       0.58      0.93      0.63    555719\n",
      "weighted avg       1.00      0.98      0.99    555719\n",
      "\n",
      "\n",
      "Threshold: 0.96\n",
      "              precision    recall  f1-score   support\n",
      "\n",
      "           0       1.00      0.98      0.99    553574\n",
      "           1       0.17      0.87      0.28      2145\n",
      "\n",
      "    accuracy                           0.98    555719\n",
      "   macro avg       0.58      0.93      0.64    555719\n",
      "weighted avg       1.00      0.98      0.99    555719\n",
      "\n",
      "\n",
      "Threshold: 0.97\n",
      "              precision    recall  f1-score   support\n",
      "\n",
      "           0       1.00      0.98      0.99    553574\n",
      "           1       0.17      0.87      0.28      2145\n",
      "\n",
      "    accuracy                           0.98    555719\n",
      "   macro avg       0.58      0.93      0.64    555719\n",
      "weighted avg       1.00      0.98      0.99    555719\n",
      "\n",
      "\n",
      "Threshold: 0.98\n",
      "              precision    recall  f1-score   support\n",
      "\n",
      "           0       1.00      0.98      0.99    553574\n",
      "           1       0.17      0.87      0.28      2145\n",
      "\n",
      "    accuracy                           0.98    555719\n",
      "   macro avg       0.58      0.92      0.64    555719\n",
      "weighted avg       1.00      0.98      0.99    555719\n",
      "\n",
      "\n",
      "Threshold: 0.99\n",
      "              precision    recall  f1-score   support\n",
      "\n",
      "           0       1.00      0.98      0.99    553574\n",
      "           1       0.17      0.86      0.28      2145\n",
      "\n",
      "    accuracy                           0.98    555719\n",
      "   macro avg       0.58      0.92      0.64    555719\n",
      "weighted avg       1.00      0.98      0.99    555719\n",
      "\n"
     ]
    }
   ],
   "source": [
    "# Step 7: test different thresholds\n",
    "thresholds = [0.8, 0.9, 0.95, 0.96, 0.97, 0.98, 0.99]\n",
    "for thresh in thresholds:\n",
    "    y_pred = (y_pred_prob > thresh).astype(int)\n",
    "    print(f\"\\nThreshold: {thresh}\")\n",
    "    print(classification_report(y_test, y_pred))"
   ]
  }
 ],
 "metadata": {
  "kernelspec": {
   "display_name": "python_developer",
   "language": "python",
   "name": "python3"
  },
  "language_info": {
   "codemirror_mode": {
    "name": "ipython",
    "version": 3
   },
   "file_extension": ".py",
   "mimetype": "text/x-python",
   "name": "python",
   "nbconvert_exporter": "python",
   "pygments_lexer": "ipython3",
   "version": "3.11.10"
  }
 },
 "nbformat": 4,
 "nbformat_minor": 5
}
